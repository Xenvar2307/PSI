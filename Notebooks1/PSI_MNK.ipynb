{
  "nbformat": 4,
  "nbformat_minor": 0,
  "metadata": {
    "colab": {
      "provenance": []
    },
    "kernelspec": {
      "name": "python3",
      "display_name": "Python 3"
    },
    "language_info": {
      "name": "python"
    }
  },
  "cells": [
    {
      "cell_type": "markdown",
      "source": [
        "# Problemy regresyjne\n",
        "Rozwiązujemy\n",
        "$$\n",
        "f(x_i) \\approx y_i\n",
        "$$\n",
        "gdzie $y_i$ albo należy do $\\mathbb{R}^n$ (regresja) albo $y_i \\in \\{0,\\ldots,c-1\\}$ -- zmienne kategoryczne (klasyfikacja).\n",
        "\n",
        "My będziemy zajmować się najprostszą sytuacją, gdu $n=1$ (skalarne). Także sytuacja liniowa.\n",
        "\n"
      ],
      "metadata": {
        "id": "EN8EK_wEdrIY"
      }
    },
    {
      "cell_type": "markdown",
      "source": [
        "## Najprostszy przypadek: tyle samo równań co niewiadomych\n",
        "\n",
        "Zakładam, że mam $n$ punktów $x_0,\\ldots,x_{n-1}$ w przestrzeni $\\mathbb{R}^n$ [stosujemy zapis wierszowy], i chcemy rozwiązać problem\n",
        "$$\n",
        "f(x_i)=y_i,\n",
        "$$\n",
        "gdzie $f$ szukamy postaci $f(x)=xw$, gdzie $w \\in \\mathbb{R}^n$ to wektor kolumnowy.\n",
        "\n",
        "Wtedy nasz problem to\n",
        "$$\n",
        "\\begin{cases}\n",
        "x_0 w= y_0, \\\\\n",
        "\\vdots \\\\\n",
        "x_{n-1} w=y_{n-1}.\n",
        "\\end{cases}\n",
        "$$\n",
        "Finalnie możemy w takim razie zapisać jako\n",
        "$$\n",
        "Xw=y,\n",
        "$$\n",
        "gdzie\n",
        "$$\n",
        "y=\\begin{bmatrix}\n",
        "y_0 \\\\\n",
        "\\vdots \\\\\n",
        "y_{n-1}\n",
        "\\end{bmatrix}\n",
        "$$\n",
        "Finalnie naszym rozwiązaniem jest wtedy\n",
        "$$\n",
        "w=X^{-1} y.\n",
        "$$\n",
        "\n",
        "\n"
      ],
      "metadata": {
        "id": "5a5FGh_VUqat"
      }
    },
    {
      "cell_type": "code",
      "source": [
        "import numpy as np\n",
        "import matplotlib.pyplot as plt\n",
        "\"\"\"\n",
        "rozwiązujemy równanie\n",
        "$$\n",
        "f([1,2])=1\n",
        "f([2,3])=2\n",
        "$$\n",
        "\"\"\"\n",
        "\n",
        "X=np.array([[1,2],[2,3]])\n",
        "y=np.array([[1],[2]])\n",
        "np.linalg.inv(X) @ y"
      ],
      "metadata": {
        "colab": {
          "base_uri": "https://localhost:8080/"
        },
        "id": "A4i99srGC-qE",
        "outputId": "c6d1ce53-c087-4b9a-89bc-8d9e062d1d69"
      },
      "execution_count": null,
      "outputs": [
        {
          "output_type": "execute_result",
          "data": {
            "text/plain": [
              "array([[1.],\n",
              "       [0.]])"
            ]
          },
          "metadata": {},
          "execution_count": 6
        }
      ]
    },
    {
      "cell_type": "markdown",
      "source": [
        "# MSE loss\n",
        "\n",
        "Teraz możemy się zająć pytaniem, co by było gdyby było więcej równań niż zmiennych.\n",
        "\n",
        "*Przykład* Mierzymy prędkość samochodu, zakładamy, że $s=v t$. W chwili $t=1$ przejechał $10$ (metrów), a w chwili $t=2$ $18$.\n",
        "Dostajemy układ równań\n",
        "$$\n",
        "\\begin{cases}\n",
        "1 v=10 \\\\\n",
        "2v=18\n",
        "\\end{cases}\n",
        "$$\n",
        "Oczywiście nie ma rozwiązania. Zakładając jednak, że nasze urządzenia pomiarowe są niedoskonałe, możemy się spytać o najlepsze $v$, czyli takie które da najmniejszy błąd kwadratowy przewidywań:\n",
        "$$\n",
        "SquarredErrorLoss(v)=(1v-10)^2+(2v-18)^2.\n",
        "$$\n",
        "[Pomysł Gaussa na szukanie zagubionej asteroidy]\n",
        "\n",
        "Finalnie znajdujemy pochodną i przyrównujemy do zera:\n",
        "$$\n",
        "2(v-10)+2(2v-18)2=0,\n",
        "$$\n",
        "czyli $10v=92$, czyli $v=9.2$.\n",
        "\n",
        "W konsekwencji optymalna predykcja prędkości samochodu to $9.2$.\n",
        "\n"
      ],
      "metadata": {
        "id": "fEPGsAn2FoJ6"
      }
    },
    {
      "cell_type": "markdown",
      "source": [
        "# MNK\n",
        "Zakładamy teraz, że mamy więcej punktów niż zmiennych.\n",
        "Szukamy (przybliżonego) rozwiązania równania\n",
        "$$\n",
        "f(x_i) \\approx y_i,\n",
        "$$\n",
        "gdzie $f$ jest zadane wzorem\n",
        "$$\n",
        "f(x)=xw.\n",
        "$$\n",
        "[$x$ to wektor wierszowy, $w$ kolumnowy]\n",
        "\n",
        "Rozważamy loss zadany przez sumę kwadratów popełnionych błędów:\n",
        "$$\n",
        "SEloss(w)=\\sum_i \\|y_i-f(x_i)\\|^2=\\sum_i (y_i-x_iw)^2.\n",
        "$$\n",
        "Chcemy zminimalizować. Będziemy potrzebowali pochodnej.\n"
      ],
      "metadata": {
        "id": "8OEZ9fiHI4E5"
      }
    },
    {
      "cell_type": "markdown",
      "source": [
        "# [DYGRESJA] Pochodna funkcji\n",
        "\n",
        "Przypominam, że pochodna funkcji $f$ w punkcie $v$ to z definicji taka macierz $D=Df(v)$, że\n",
        "$$\n",
        "f(v+h)-f(v) \\approx D \\cdot h +o(h),\n",
        "$$\n",
        "gdzie $\\cdot$ u góry to mnożenie macierzy przez wektor.\n",
        "\n",
        "W praktyce macierz pochodne to zestawienie pochodnych cząstkowych po kolejnych współrzędnych\n",
        "$$\n",
        "Df=(\\frac{\\partial f}{\\partial x_0},\\ldots,\\frac{\\partial f}{\\partial x_{n-1}})\n",
        "$$\n",
        "\n",
        "Dodatkowo zachodzi reguła łańcuchowa:\n",
        "$$\n",
        "D(f \\circ g)(v)=Df(g(v)) \\cdot Dg(v).\n",
        "$$\n",
        "\n",
        "*Przykład 1*\n",
        "Niech $a$ będzie wektorem wierszowym.\n",
        "Pochodna funkcji liniowej\n",
        "$$\n",
        "f:w \\to aw+b.\n",
        "$$\n",
        "Licząć z wzoru\n",
        "$$\n",
        "f(w+h)-f(w)=ah,\n",
        "$$\n",
        "czyli trywialnie $Df(w)=a.\n",
        "\n",
        "*Przykład 2*\n",
        "Liczymy pochodna funkcji\n",
        "$$\n",
        "h:w \\to (aw+b)^2.\n",
        "$$\n",
        "Zauważmy, że to pochodna funkcji złożonej (czyli kwadrat od liniowej), czyli z reguły Łańcuchowej mamy:\n",
        "$$\n",
        "Dh(w)=2(aw+b) \\cdot a=2awa+ba=2a^Taw+ba\n",
        "$$\n"
      ],
      "metadata": {
        "id": "cAQjSaJAfzwv"
      }
    },
    {
      "cell_type": "markdown",
      "source": [
        "# Wracamy do wyprowadzenia MNK\n",
        "\n",
        "Chcemy rozwiązać problem\n",
        "$$\n",
        "\\begin{cases}\n",
        "x_0w \\approx y_0, \\\\\n",
        "\\vdots \\\\\n",
        "x_{n-1}w \\approx y_{n-1},\n",
        "\\end{cases}\n",
        "$$\n",
        "równoważnie:\n",
        "\n",
        "$\n",
        "\\text{(1)} \\hspace{8cm} Xw \\approx y.   \n",
        "$\n",
        "\n",
        "\n",
        "Przypominam, że loss jest dany wzorem\n",
        "$$\n",
        "S\\!Eloss(w)=\\sum_i (y_i-x_iw)^2.\n",
        "$$\n",
        "Możemy jeszcze uprościć do\n",
        "$$\n",
        "\\sum_i (y_i-x_iw)^2=\\sum_i y_i^2-2\\sum_i y_ix_iw-2\\sum_i w^T x_i^T x_i w=y^Ty+y^TXw+w^TX^TXw.\n",
        "$$\n",
        "Czyli w zapisie wektorowym\n",
        "$$\n",
        "SEloss(w)=y^Ty-2[y^TX]w+w^T[X^TX]w.\n",
        "$$\n",
        "\n",
        "\n",
        "\n",
        "Ponieważ pochodna sumy, to suma pochodnych, dostajemy z dygresji\n",
        "$$\n",
        "D \\, S\\!Eloss(w)=\\sum_i D(x_iw-y_i)^2=2\\sum_i D(x_iw-y_i)^2\n",
        "$$\n",
        "$$\n",
        "=2\\sum_i(x_iw-y_i) \\cdot x_i=2\\sum_i(w_i^Tx_i^T-y_i) \\cdot x_i=\n",
        "2w^T(X^TX)-2y^TX.\n",
        "$$\n",
        "\n",
        "Otrzymaliśmy, że pochodna lossu jest dana wzorem\n",
        "$$\n",
        "D SEloss(w)=2w^T(X^TX)-2y^TX.\n",
        "$$\n",
        "Przyrównując loss do zera, dostajemy równanie\n",
        "$$\n",
        "X^T Xw=X^Ty.\n",
        "$$\n",
        "UWAGA (ŁATWO ZAPAMIĘTAĆ): To równanie polega w praktyce na przemnożeniu obu stron oryginalnego równania (1) przez $X^T$.\n",
        "\n",
        "Okazuje się, że zawsze ma rozwiązanie. Jeżeli macierz $X^TX$ jest odwracalne (co zazwyczaj zachodzi), jest dane wzorem\n",
        "$$\n",
        "w=(X^TX)^{-1}(X^Ty).\n",
        "$$"
      ],
      "metadata": {
        "id": "BpB3S_ETMImb"
      }
    },
    {
      "cell_type": "code",
      "source": [
        "import numpy as np\n",
        "import matplotlib.pyplot as plt\n",
        "\"\"\"\n",
        "znajdujemy funkcję liniową $f$ która w sposób przybliżony rozwiązuje problem MNK\n",
        "$$\n",
        "f([1,2])=1\n",
        "f([2,3])=2\n",
        "f([3,4])=2\n",
        "$$\n",
        "\"\"\"\n",
        "\n",
        "X=np.array([[1,2],[2,3],[3,4]])\n",
        "y=np.array([[1],[2],[2]])\n",
        "w=np.linalg.inv(X.T@X) @ (X.T@ y)\n",
        "print(w)"
      ],
      "metadata": {
        "colab": {
          "base_uri": "https://localhost:8080/"
        },
        "id": "ej4_41ejQPds",
        "outputId": "b6ef4f34-a337-4cae-93fa-9e7ab91b67df"
      },
      "execution_count": null,
      "outputs": [
        {
          "output_type": "stream",
          "name": "stdout",
          "text": [
            "[[-0.16666667]\n",
            " [ 0.66666667]]\n"
          ]
        }
      ]
    },
    {
      "cell_type": "markdown",
      "source": [
        "Czyli przybliżonym rozwiązaniem jest funkcja\n",
        "$$\n",
        "f(x)=f(x0,x1)=xw=w0\\cdot x0+w1 \\cdot x1.\n",
        "$$\n",
        "\n",
        "Warto wtedy jeszcze policzyć MSE (średni kwadratowy błąd) tego rozwiązania."
      ],
      "metadata": {
        "id": "X4dClOihQyz-"
      }
    },
    {
      "cell_type": "markdown",
      "source": [],
      "metadata": {
        "id": "AZsFVhR7RdDO"
      }
    },
    {
      "cell_type": "markdown",
      "source": [
        "# Regresja wielomianowa\n",
        "\n",
        "Rozrzeszamy przestrzeń tworząc nowe cechy, i rozwiązujemy model liniowy w rozszerzonej przestrzeni. W regresji wielomianowej rozszerzamy $x \\to (1,x,\\ldots,x^n)$."
      ],
      "metadata": {
        "id": "bQZ9fWBxTab2"
      }
    },
    {
      "cell_type": "code",
      "source": [
        "import numpy as np\n",
        "import matplotlib.pyplot as plt\n",
        "\n",
        "# Przykładowa funkcja cech: wielomian stopnia n\n",
        "def feature_map(x):\n",
        "  n=20\n",
        "  \"\"\"Przekształca skalar x w wektor cech [1, x, x^2, ..., x^n].\"\"\"\n",
        "  return np.array([x**i for i in range(n + 1)])  # Od x^0 do x^n\n",
        "\n",
        "# Funkcja do budowy macierzy cech\n",
        "def build_feature_matrix(x_values):\n",
        "    \"\"\"Tworzy macierz cech dla zbioru x_values przy użyciu feature_function.\"\"\"\n",
        "    return np.array([feature_map(x) for x in x_values])\n",
        "\n",
        "# Metoda MNK dla transformowanych danych\n",
        "def least_squares_fit(x_values, y_values):\n",
        "    \"\"\"Oblicza współczynniki regresji MNK dla cech wygenerowanych przez feature_function.\"\"\"\n",
        "    X = build_feature_matrix(x_values)  # Macierz cech\n",
        "    y = np.array(y_values)  # Wektor wyników\n",
        "    beta = np.linalg.inv(X.T@X) @ (X.T@ y)  # Rozwiązanie MNK\n",
        "    return beta\n",
        "\n",
        "# Generowanie przykładowych danych\n",
        "np.random.seed(42)\n",
        "x_samples = np.linspace(-2, 2, 20)  # Przykładowe x_i\n",
        "y_samples = 3 + 2 * x_samples - x_samples**2 + np.random.normal(0, 0.5, len(x_samples))  # Przykładowe y_i (z szumem)\n",
        "\n",
        "# Dopasowanie modelu\n",
        "beta_opt = least_squares_fit(x_samples, y_samples)\n",
        "print(\"Współczynniki regresji beta:\", beta_opt)\n",
        "\n",
        "# Wizualizacja dopasowania\n",
        "x_plot = np.linspace(-2.5, 2.5, 10000)\n",
        "y_plot = [np.dot(beta_opt, feature_map(x)) for x in x_plot]\n",
        "\n",
        "y_min, y_max = min(y_samples), max(y_samples)\n",
        "plt.ylim(y_min - 1, y_max + 1)  # Ustawienie zakresu y\n",
        "\n",
        "plt.scatter(x_samples, y_samples, color='red', label=\"Dane\")\n",
        "plt.plot(x_plot, y_plot, color='blue', label=\"Dopasowana krzywa\")\n",
        "plt.xlabel(\"x\")\n",
        "plt.ylabel(\"y\")\n",
        "plt.legend()\n",
        "plt.title(\"Regresja MNK z funkcją cech\")\n",
        "plt.show()\n"
      ],
      "metadata": {
        "colab": {
          "base_uri": "https://localhost:8080/",
          "height": 576
        },
        "id": "s4z08ur2TynX",
        "outputId": "615d08bf-b1e5-418d-b274-b0be8d4b15b6"
      },
      "execution_count": 2,
      "outputs": [
        {
          "output_type": "stream",
          "name": "stdout",
          "text": [
            "Współczynniki regresji beta: [ 4.50351249e+00 -2.88135907e+00 -1.26968780e+01  6.27159245e+01\n",
            "  1.03339984e+02 -3.59960685e+02 -3.40659900e+02  9.43781810e+02\n",
            "  5.24637244e+02 -1.34047652e+03 -4.14106985e+02  1.11928369e+03\n",
            "  1.56440101e+02 -5.62793923e+02 -1.10302609e+01  1.66638330e+02\n",
            " -1.12111585e+01 -2.66169885e+01  3.48146169e+00  1.76047033e+00\n",
            " -3.12838495e-01]\n"
          ]
        },
        {
          "output_type": "display_data",
          "data": {
            "text/plain": [
              "<Figure size 640x480 with 1 Axes>"
            ],
            "image/png": "[encoded data removed]"
          },
          "metadata": {}
        }
      ]
    },
    {
      "cell_type": "markdown",
      "source": [
        "Widzimy, że dla dużych $n$ (na przykład 30) model się nadmiernie dopasowuje do danych (overfitting). Upraszczając, zapamiętuje je zamiast generalizować. Sa różne techniki aby z tym walczyć, jedną z nich jest regularyzacja."
      ],
      "metadata": {
        "id": "J5bCTOP9UDSq"
      }
    },
    {
      "cell_type": "markdown",
      "source": [
        "# Brzytwa Ockhama\n",
        "\n",
        "A co jak model się overfituje do danych? Karzemy go za skomplikowanie, czyli do loss-u dodajemy regularyzację L2, czyli sumę kwadratów współczynników wag $w$ (powstaje model zwany ridge regression).\n",
        "\n",
        "Czyli wtedy loss będzie zadany przez\n",
        "$$\n",
        "loss=SEloss(w)+\\lambda \\|w\\|^2.\n",
        "$$\n",
        "Ponieważ $\\|w\\|^2=w^TIw$, dostajemy\n",
        "$$\n",
        "loss=y^Ty +2[y^TX]w+ w^T [X^TX+\\lambda I] w.\n",
        "$$\n",
        "Finalnie zatem rozwiązanie jest zadane przez\n",
        "$$\n",
        "w=(X^TX+\\lambda I)^{-1}X^Ty\n",
        "$$\n",
        "\n"
      ],
      "metadata": {
        "id": "wC1nLXCIRVWY"
      }
    },
    {
      "cell_type": "markdown",
      "source": [],
      "metadata": {
        "id": "A2jrZh0fQwGm"
      }
    },
    {
      "cell_type": "code",
      "source": [
        "def ridge_fit(x_values, y_values, lambd):\n",
        "    \"\"\"Oblicza współczynniki regresji MNK dla cech wygenerowanych przez feature_function.\"\"\"\n",
        "    X = build_feature_matrix(x_values)  # Macierz cech\n",
        "    y = np.array(y_values)  # Wektor wyników\n",
        "    beta = np.linalg.inv(X.T@X+np.eye(X.shape[1])*lambd) @ (X.T@ y)  # Rozwiązanie MNK\n",
        "    return beta\n",
        "\n",
        "# Dopasowanie modelu\n",
        "beta_ridge = ridge_fit(x_samples, y_samples, 1)\n",
        "print(beta_ridge)\n",
        "\n",
        "# Wizualizacja dopasowania\n",
        "x_plot = np.linspace(-2.5, 2.5, 200)\n",
        "y_plot = [np.dot(beta_opt, feature_map(x)) for x in x_plot]\n",
        "y_lasso = [np.dot(beta_ridge, feature_map(x)) for x in x_plot]\n",
        "\n",
        "y_min, y_max = min(y_samples), max(y_samples)\n",
        "plt.ylim(y_min - 1, y_max + 1)  # Ustawienie zakresu y\n",
        "\n",
        "plt.scatter(x_samples, y_samples, color='red', label=\"Dane\")\n",
        "plt.plot(x_plot, y_plot, x_plot, y_lasso)\n",
        "plt.xlabel(\"x\")\n",
        "plt.ylabel(\"y\")\n",
        "plt.legend()\n",
        "plt.title(\"Regresja wielomianowa z regularyzacją L2 (ridge regression)\")\n",
        "plt.show()\n"
      ],
      "metadata": {
        "colab": {
          "base_uri": "https://localhost:8080/",
          "height": 541
        },
        "id": "_dmKd7yTVcKI",
        "outputId": "73bd636f-8331-4f6f-b49d-f5d56533e317"
      },
      "execution_count": 3,
      "outputs": [
        {
          "output_type": "stream",
          "name": "stdout",
          "text": [
            "[ 2.42251346  0.8092993  -0.05362689  0.43916275 -0.28868486  0.32303432\n",
            " -0.2498657   0.17405571 -0.1225776  -0.02902243  0.02650766 -0.1870848\n",
            "  0.12164513 -0.11717483  0.06824411  0.18658833 -0.10860074 -0.06244626\n",
            "  0.03530078  0.00647451 -0.00355872]\n"
          ]
        },
        {
          "output_type": "display_data",
          "data": {
            "text/plain": [
              "<Figure size 640x480 with 1 Axes>"
            ],
            "image/png": "[encoded data removed]"
          },
          "metadata": {}
        }
      ]
    },
    {
      "cell_type": "markdown",
      "source": [
        "## Lasso regresion\n",
        "jak się doda błąd L1, czyli suma modułów wag $\\sum_i |w_i|$, to powstaje model zwany Lasso regression. On ma tą własność, że zeruje część wag modelu. Nie ma tak prostego rozwiązania jak Ridge, ale też da się rozwiązać. W scikitlearn są zaimplementowane za równo Lasso, jak i Ridge regression."
      ],
      "metadata": {
        "id": "Ap_QTvqaUYNH"
      }
    },
    {
      "cell_type": "code",
      "source": [],
      "metadata": {
        "id": "4HwD6tAdQkt9"
      },
      "execution_count": null,
      "outputs": []
    }
  ]
}