{
  "nbformat": 4,
  "nbformat_minor": 0,
  "metadata": {
    "colab": {
      "provenance": []
    },
    "kernelspec": {
      "name": "python3",
      "display_name": "Python 3"
    },
    "language_info": {
      "name": "python"
    }
  },
  "cells": [
    {
      "cell_type": "markdown",
      "source": [
        "https://www.youtube.com/watch?v=iy8BaMs_JuI&ab_channel=ConcerningReality"
      ],
      "metadata": {
        "id": "OpFP0hrxhqvK"
      }
    },
    {
      "cell_type": "code",
      "execution_count": null,
      "metadata": {
        "colab": {
          "base_uri": "https://localhost:8080/"
        },
        "id": "vmrrNn_PaO-l",
        "outputId": "e2fd3bb8-7be7-48f6-991c-70b85195e025"
      },
      "outputs": [
        {
          "output_type": "stream",
          "name": "stdout",
          "text": [
            "Zakodowane: ... --- ... / .-- . / -. . . -.. / .... . .-.. .--.\n",
            "Zdekodowane: SOS WE NEED HELP\n"
          ]
        }
      ],
      "source": [
        "# Słownik Morse'a (angielski alfabet)\n",
        "MORSE_CODE_DICT = {\n",
        "    '.-':    'A', '-...':  'B',\n",
        "    '-.-.':  'C', '-..':   'D',\n",
        "    '.':     'E', '..-.':  'F',\n",
        "    '--.':   'G', '....':  'H',\n",
        "    '..':    'I', '.---':  'J',\n",
        "    '-.-':   'K', '.-..':  'L',\n",
        "    '--':    'M', '-.':    'N',\n",
        "    '---':   'O', '.--.':  'P',\n",
        "    '--.-':  'Q', '.-.':   'R',\n",
        "    '...':   'S', '-':     'T',\n",
        "    '..-':   'U', '...-':  'V',\n",
        "    '.--':   'W', '-..-':  'X',\n",
        "    '-.--':  'Y', '--..':  'Z',\n",
        "    '-----': '0', '.----': '1',\n",
        "    '..---': '2', '...--': '3',\n",
        "    '....-': '4', '.....': '5',\n",
        "    '-....': '6', '--...': '7',\n",
        "    '---..': '8', '----.': '9',\n",
        "    '/':     ' '  # separator słów\n",
        "}\n",
        "\n",
        "def decode_morse(morse_code):\n",
        "    words = morse_code.strip().split(' / ')  # zakładamy że '/' to przerwa między słowami\n",
        "    decoded_words = []\n",
        "\n",
        "    for word in words:\n",
        "        letters = word.strip().split()  # przerwa między literami: pojedynczy odstęp\n",
        "        decoded_letters = [MORSE_CODE_DICT.get(letter, '?') for letter in letters]\n",
        "        decoded_words.append(''.join(decoded_letters))\n",
        "\n",
        "    return ' '.join(decoded_words)\n",
        "\n",
        "# Przykład użycia\n",
        "morse_input = \"... --- ... / .-- . / -. . . -.. / .... . .-.. .--.\"\n",
        "decoded = decode_morse(morse_input)\n",
        "print(f\"Zakodowane: {morse_input}\")\n",
        "print(f\"Zdekodowane: {decoded}\")\n"
      ]
    },
    {
      "cell_type": "code",
      "source": [
        "# Słownik do kodowania: odwrotność poprzedniego\n",
        "TEXT_TO_MORSE = {v: k for k, v in MORSE_CODE_DICT.items()}\n",
        "\n",
        "def encode_to_morse(text):\n",
        "    text = text.upper()\n",
        "    encoded = []\n",
        "\n",
        "    for char in text:\n",
        "        if char == ' ':\n",
        "            encoded.append('/')  # separator słów\n",
        "        else:\n",
        "            morse = TEXT_TO_MORSE.get(char)\n",
        "            encoded.append(morse if morse else '?')  # jeśli znak nieznany\n",
        "\n",
        "    return ' '.join(encoded)\n",
        "\n",
        "# Wstawiamy obie funkcje razem\n",
        "text = \"Sztuczna Inteligencja\"\n",
        "morse = encode_to_morse(text)\n",
        "print(\"Morse:\", morse)\n",
        "\n",
        "decoded = decode_morse(morse)\n",
        "print(\"Z powrotem:\", decoded)"
      ],
      "metadata": {
        "colab": {
          "base_uri": "https://localhost:8080/"
        },
        "id": "400PF6dTaS2P",
        "outputId": "42061186-9c53-4e47-d9dc-c2671896af06"
      },
      "execution_count": null,
      "outputs": [
        {
          "output_type": "stream",
          "name": "stdout",
          "text": [
            "Morse: ... --.. - ..- -.-. --.. -. .- / .. -. - . .-.. .. --. . -. -.-. .--- .-\n",
            "Z powrotem: SZTUCZNA INTELIGENCJA\n"
          ]
        }
      ]
    },
    {
      "cell_type": "code",
      "source": [
        "# # przykład na windows (nie w google colab)\n",
        "\n",
        "# import time\n",
        "# import winsound\n",
        "\n",
        "# # Czas jednostki w ms (np. 100ms)\n",
        "# UNIT = 100\n",
        "\n",
        "# # Dźwięki dla . (kropka) i - (kreska)\n",
        "# def play_morse_sound(morse_code):\n",
        "#     for symbol in morse_code:\n",
        "#         if symbol == '.':\n",
        "#             winsound.Beep(700, UNIT)\n",
        "#         elif symbol == '-':\n",
        "#             winsound.Beep(700, 3 * UNIT)\n",
        "#         elif symbol == ' ':\n",
        "#             time.sleep(UNIT / 1000)  # krótka przerwa między znakami\n",
        "#         elif symbol == '/':\n",
        "#             time.sleep(7 * UNIT / 1000)  # długa przerwa między słowami\n",
        "#         time.sleep(UNIT / 1000)  # przerwa między elementami\n",
        "\n",
        "# # Przykład\n",
        "# morse_message = encode_to_morse(\"SOS HELP\")\n",
        "# print(\"Odtwarzam:\", morse_message)\n",
        "# play_morse_sound(morse_message)\n"
      ],
      "metadata": {
        "id": "u5u0N_tFaq4L"
      },
      "execution_count": null,
      "outputs": []
    },
    {
      "cell_type": "markdown",
      "source": [
        "Widzimy, że w rzeczywistości kod Morse używa czterech symboli:\n",
        "* kropka '.'\n",
        "* kreska '-'\n",
        "* krótka pauza ' '\n",
        "* długa pauza '/'\n",
        "\n",
        "W konsekwencji, gdybyśmy chcieli zapisać w postaci ciągu bitowego (zer/jedynek) moglibyśmy użyć kodowania:\n",
        "* kropka '.' 00\n",
        "* kreska '-' 11\n",
        "* krótka pauza 01\n",
        "* długa pauza 10"
      ],
      "metadata": {
        "id": "kULb4WfkbYKY"
      }
    },
    {
      "cell_type": "code",
      "source": [
        "# Morse'owy słownik\n",
        "MORSE_CODE_DICT = {\n",
        "    'A': '.-',    'B': '-...',  'C': '-.-.', 'D': '-..',  'E': '.',\n",
        "    'F': '..-.',  'G': '--.',   'H': '....', 'I': '..',   'J': '.---',\n",
        "    'K': '-.-',   'L': '.-..',  'M': '--',   'N': '-.',   'O': '---',\n",
        "    'P': '.--.',  'Q': '--.-',  'R': '.-.',  'S': '...',  'T': '-',\n",
        "    'U': '..-',   'V': '...-',  'W': '.--',  'X': '-..-', 'Y': '-.--',\n",
        "    'Z': '--..',  '0': '-----', '1': '.----','2': '..---','3': '...--',\n",
        "    '4': '....-', '5': '.....', '6': '-....','7': '--...','8': '---..',\n",
        "    '9': '----.', ' ': '/'  # spacja jako separator słów\n",
        "}\n",
        "\n",
        "# Funkcja kodująca do binarnego Morse’a\n",
        "def encode_to_binary_morse(text):\n",
        "    text = text.upper()\n",
        "    binary_code = []\n",
        "\n",
        "    for i, char in enumerate(text):\n",
        "        morse = MORSE_CODE_DICT.get(char, '')\n",
        "        if morse == '/':\n",
        "            binary_code.append('10')  # długa pauza między słowami\n",
        "        else:\n",
        "            for j, symbol in enumerate(morse):\n",
        "                if symbol == '.':\n",
        "                    binary_code.append('00')\n",
        "                elif symbol == '-':\n",
        "                    binary_code.append('11')\n",
        "                if j != len(morse) - 1:\n",
        "                    binary_code.append('01')  # krótka pauza między elementami litery\n",
        "            # Dodaj pauzę między literami (opcjonalnie)\n",
        "            if i != len(text) - 1 and text[i + 1] != ' ':\n",
        "                binary_code.append('01')  # pauza między literami\n",
        "\n",
        "    return ''.join(binary_code)\n",
        "\n",
        "# Przykład\n",
        "text = \"HI AI\"\n",
        "binary_morse = encode_to_binary_morse(text)\n",
        "print(f\"Tekst: {text}\")\n",
        "print(f\"Kod binarny Morse’a: {binary_morse}\")\n"
      ],
      "metadata": {
        "colab": {
          "base_uri": "https://localhost:8080/"
        },
        "id": "qcewinCebELC",
        "outputId": "2e61515b-441c-466a-a39c-2babbbcb7d9b"
      },
      "execution_count": null,
      "outputs": [
        {
          "output_type": "stream",
          "name": "stdout",
          "text": [
            "Tekst: HI AI\n",
            "Kod binarny Morse’a: 00010001000100010001001000011101000100\n"
          ]
        }
      ]
    },
    {
      "cell_type": "code",
      "source": [
        "# Przykładowy tekst do zakodowania\n",
        "sample_text = \"\"\"\n",
        "In publishing and graphic design, Lorem ipsum is a placeholder text commonly used to demonstrate the visual form of a document or a font without relying on meaningful content. Lorem ipsum may be used as a placeholder before the final copy is available.\n",
        "\"\"\"\n",
        "\n",
        "# Usuwamy znaki nowej linii i dodatkowe spacje\n",
        "sample_text = sample_text.replace('\\n', ' ').strip()\n",
        "\n",
        "# Kodowanie tekstu na binarny ciąg\n",
        "binary_output = encode_to_binary_morse(sample_text)\n",
        "\n",
        "# Wyświetlanie wyników\n",
        "print(f\"Oryginalny tekst wejściowy:\")\n",
        "print(sample_text)\n",
        "print(f\"\\nLiczba znaków w tekście wejściowym: {len(sample_text)}\")\n",
        "print(f\"\\nZakodowany ciąg binarny:\")\n",
        "print(binary_output)\n",
        "print(f\"\\nDługość ciągu binarnego na wyjściu: {len(binary_output)}\")"
      ],
      "metadata": {
        "colab": {
          "base_uri": "https://localhost:8080/"
        },
        "id": "uScWTDu2d4xP",
        "outputId": "832064d5-7598-4c17-bff6-28b8350ba0ba"
      },
      "execution_count": null,
      "outputs": [
        {
          "output_type": "stream",
          "name": "stdout",
          "text": [
            "Oryginalny tekst wejściowy:\n",
            "In publishing and graphic design, Lorem ipsum is a placeholder text commonly used to demonstrate the visual form of a document or a font without relying on meaningful content. Lorem ipsum may be used as a placeholder before the final copy is available.\n",
            "\n",
            "Liczba znaków w tekście wejściowym: 252\n",
            "\n",
            "Zakodowany ciąg binarny:\n",
            "000100011101001000011101110100010001000111011101000100010001000111010001000100010001000100010001000100010001000100010001110100011101110100100001110111010001110100010010110111010001000111010001000111010001110111010001000100010001000100010001110100011101001011010001000100010001000100010001000111011101000111010001100001110100010001110111011101000111010001000111011110000100010001110111010001000100010001000100011101110111100001000100010001001000011110000111011101000100011101000100010001110111010001110100010001000100010001000111011101110100011101000100011101000100010001000111010010110100011101000100011101111011010001110100011101110111011101110111011101110111011101110100010001110100010001110100011101111000010001110100010001000100011101000100101101110111011110110100010001000111011101110111011101110100010001000100011101000111010001000111011101001011010001000100010001001000010001000111010001000100010001000100010001110100011101000111010001001000010001110100011101110111010001110100011101111011011101110100010001110100100001111011010001000111011101110111010001110100010001000111011101110100011101000111101101110111010001110100100001111000010001110100011101110111011101000111100001110111010001000111010001000100010001110111011101000100011101111000011101000100010001110100010001110100011101110100010001110100011101110100101101110111011101001011011101000100011101110100010001000111010001110111010001000100011101000100010001110100011101000100101101000111010001110111011101110100011101000111010001110110000111010001000111011101110100011101000100011101111000010001000111011101000100010001000100010001110111011110110111010001110111010001110111101101000100010001001000010001110100010001000100011101000100100001110100010001001000011110000111011101000100011101000100010001110111010001110100010001000100010001000111011101110100011101000100011101000100010001000111010010110100010001000100010001000111010001110111011101000111010001001011010001000100010001001000010001110100010001000111010001000111010001110100010010110100011101000111011101110100011101110100011101000111011110000100010001000100100001110100010001000111010001110100010001000111010001000100011101110100010001000100011101000100010001\n",
            "\n",
            "Długość ciągu binarnego na wyjściu: 2184\n"
          ]
        }
      ]
    },
    {
      "cell_type": "markdown",
      "source": [],
      "metadata": {
        "id": "0_EHnAQUhpyl"
      }
    },
    {
      "cell_type": "code",
      "source": [],
      "metadata": {
        "id": "vjWKiGAPerkF"
      },
      "execution_count": null,
      "outputs": []
    }
  ]
}